{
 "cells": [
  {
   "cell_type": "markdown",
   "source": [
    "### MATPLOTLIB\n",
    "matplotlib format strings : [format](https://matplotlib.org/stable/api/_as_gen/matplotlib.pyplot.plot.html)\\\n",
    "[gallery // examples](https://matplotlib.org/stable/gallery/index.html)\n",
    "\n",
    " **Dataquest.io**\\\n",
    "[regex // Data Science](https://www.dataquest.io/blog/regular-expressions-data-scientists/)\n",
    "[regex // cheatsheet](https://www.dataquest.io/blog/regex-cheatsheet/)\n"
   ],
   "metadata": {}
  },
  {
   "cell_type": "code",
   "execution_count": 41,
   "source": [
    "from matplotlib import pyplot as plt\n",
    "\n",
    "# local imports\n",
    "import snippets as sp\n",
    "import re\n",
    "\n",
    "\n",
    "# display all methods and variables\n",
    "for method in dir(sp):\n",
    "    print(method)\n",
    "    for line in re.findall(r\"\",method):\n",
    "        # print(line)\n",
    "        pass\n"
   ],
   "outputs": [
    {
     "output_type": "stream",
     "name": "stdout",
     "text": [
      "__builtins__\n",
      "__cached__\n",
      "__doc__\n",
      "__file__\n",
      "__loader__\n",
      "__name__\n",
      "__package__\n",
      "__spec__\n",
      "ages_x\n",
      "dev_x\n",
      "dev_y\n",
      "js_dev_y\n",
      "py_dev_x\n",
      "py_dev_y\n"
     ]
    }
   ],
   "metadata": {}
  },
  {
   "cell_type": "code",
   "execution_count": null,
   "source": [],
   "outputs": [],
   "metadata": {}
  }
 ],
 "metadata": {
  "orig_nbformat": 4,
  "language_info": {
   "name": "python",
   "version": "3.8.10"
  },
  "kernelspec": {
   "name": "python3",
   "display_name": "Python 3.8.10 64-bit"
  },
  "interpreter": {
   "hash": "31f2aee4e71d21fbe5cf8b01ff0e069b9275f58929596ceb00d14d90e3e16cd6"
  }
 },
 "nbformat": 4,
 "nbformat_minor": 2
}